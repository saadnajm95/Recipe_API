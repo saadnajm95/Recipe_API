{
  "nbformat": 4,
  "nbformat_minor": 0,
  "metadata": {
    "colab": {
      "name": "OpenFooFactAPI.ipynb",
      "provenance": [],
      "collapsed_sections": []
    },
    "kernelspec": {
      "name": "python3",
      "display_name": "Python 3"
    },
    "language_info": {
      "name": "python"
    }
  },
  "cells": [
    {
      "cell_type": "code",
      "metadata": {
        "id": "CZ7Dd_q1sfA4"
      },
      "source": [
        "import requests\n",
        "import json\n",
        "from pprint import pprint"
      ],
      "execution_count": 49,
      "outputs": []
    },
    {
      "cell_type": "markdown",
      "metadata": {
        "id": "M89kAVMWhZMn"
      },
      "source": [
        "##Etudier la documentation de OpenFoodFact et la réponse de leur route GET /api/v0/product afin de récupérer ces informations à partir du code barre d’un produit :\n",
        "#nom du produit\n",
        "#description du produit\n",
        "#energie en kCal d’une portion\n",
        "#energie en kCal pour 100gr\n"
      ]
    },
    {
      "cell_type": "markdown",
      "metadata": {
        "id": "HMj87z3_hssT"
      },
      "source": [
        "## Afficher pour chaque 3 produits de notre **choix**, les informations demandées au point précédent"
      ]
    },
    {
      "cell_type": "code",
      "metadata": {
        "id": "mtyros3Rgp1w"
      },
      "source": [
        "def get_produit(main_url):\n",
        "    r = requests.get(main_url)\n",
        "    d = r.json()\n",
        "    detailProd = {\n",
        "                \"NOM DU PRODUIT \": d['product']['product_name'],\n",
        "                \"DESCRIPTION DU PRODUIT \": d['product']['generic_name'],\n",
        "                \"ENERGIE EN kCal D’UNE PORTION DU PRODUIT \":  float(d['product']['nutriments']['energy-kcal_serving']),\n",
        "                \"ENERGIE EN kCal POUR 100gr DU PRODUIT \": int(d['product']['nutriments']['energy-kcal_100g'])\n",
        "                }\n",
        "    return detailProd        \n",
        "      "
      ],
      "execution_count": 48,
      "outputs": []
    },
    {
      "cell_type": "markdown",
      "metadata": {
        "id": "JMTcBs9x0HkS"
      },
      "source": [
        "# PRODUIT 1 : code bar :3033710065066"
      ]
    },
    {
      "cell_type": "code",
      "metadata": {
        "colab": {
          "base_uri": "https://localhost:8080/"
        },
        "id": "sKJcgKmVzuSC",
        "outputId": "9bed36c7-9e78-4413-b103-79e703ac1de2"
      },
      "source": [
        "prod1 = get_produit(\"https://world.openfoodfacts.org/api/v0/product/3033710065066.json\")\n",
        "\n",
        "print(prod1)"
      ],
      "execution_count": 44,
      "outputs": [
        {
          "output_type": "stream",
          "text": [
            "{'NOM DU PRODUIT ': 'NESQUIK Poudre Cacaotée boîte', 'DESCRIPTION DU PRODUIT ': 'Préparation en poudre instantanée pour boisson cacaotée', 'ENERGIE EN kCal D’UNE PORTION DU PRODUIT ': 158.0, 'ENERGIE EN kCal POUR 100gr DU PRODUIT ': 72}\n"
          ],
          "name": "stdout"
        }
      ]
    },
    {
      "cell_type": "markdown",
      "metadata": {
        "id": "AnsuehGM0Une"
      },
      "source": [
        "# PRODUIT 2 : code bar : 8712100325953"
      ]
    },
    {
      "cell_type": "code",
      "metadata": {
        "colab": {
          "base_uri": "https://localhost:8080/"
        },
        "id": "2WturUSK0Tel",
        "outputId": "df5ba2a3-3b2f-469b-ee6d-8c02a2f1ae2c"
      },
      "source": [
        "prod2 = get_produit(\"https://world.openfoodfacts.org/api/v0/product/8712100325953.json\")\n",
        "print(prod2)"
      ],
      "execution_count": 45,
      "outputs": [
        {
          "output_type": "stream",
          "text": [
            "{'NOM DU PRODUIT ': 'Amora Moutarde de Dijon Fine et Forte Bocal', 'DESCRIPTION DU PRODUIT ': 'Moutarde de Dijon.', 'ENERGIE EN kCal D’UNE PORTION DU PRODUIT ': 15.9, 'ENERGIE EN kCal POUR 100gr DU PRODUIT ': 159}\n"
          ],
          "name": "stdout"
        }
      ]
    },
    {
      "cell_type": "markdown",
      "metadata": {
        "id": "0ZRgLRro1Bjb"
      },
      "source": [
        "# PRODUIT 3 : code bar : 3033490004521\n",
        "\n"
      ]
    },
    {
      "cell_type": "code",
      "metadata": {
        "colab": {
          "base_uri": "https://localhost:8080/"
        },
        "id": "Ytuc2P-P1MZY",
        "outputId": "596aafec-d707-40e0-faa4-eabf2266fbcf"
      },
      "source": [
        "prod3 = get_produit(\"https://world.openfoodfacts.org/api/v0/product/3033490004521.json\")\n",
        "print(prod3)"
      ],
      "execution_count": 46,
      "outputs": [
        {
          "output_type": "stream",
          "text": [
            "{'NOM DU PRODUIT ': 'Yaourt nature', 'DESCRIPTION DU PRODUIT ': 'Yaourt nature - Le Nature', 'ENERGIE EN kCal D’UNE PORTION DU PRODUIT ': 57.5, 'ENERGIE EN kCal POUR 100gr DU PRODUIT ': 46}\n"
          ],
          "name": "stdout"
        }
      ]
    }
  ]
}